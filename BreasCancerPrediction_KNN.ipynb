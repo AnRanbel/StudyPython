{
  "nbformat": 4,
  "nbformat_minor": 0,
  "metadata": {
    "colab": {
      "name": "BreasCancerPrediction_KNN",
      "provenance": [],
      "authorship_tag": "ABX9TyNnlScnlvY4SufDqsS3NbhC",
      "include_colab_link": true
    },
    "kernelspec": {
      "name": "python3",
      "display_name": "Python 3"
    },
    "language_info": {
      "name": "python"
    },
    "accelerator": "TPU"
  },
  "cells": [
    {
      "cell_type": "markdown",
      "metadata": {
        "id": "view-in-github",
        "colab_type": "text"
      },
      "source": [
        "<a href=\"https://colab.research.google.com/github/AnRanbel/StudyPython/blob/master/BreasCancerPrediction_KNN.ipynb\" target=\"_parent\"><img src=\"https://colab.research.google.com/assets/colab-badge.svg\" alt=\"Open In Colab\"/></a>"
      ]
    },
    {
      "cell_type": "code",
      "metadata": {
        "id": "nzdpaK2ksYry"
      },
      "source": [
        "pip list"
      ],
      "execution_count": null,
      "outputs": []
    },
    {
      "cell_type": "code",
      "metadata": {
        "colab": {
          "base_uri": "https://localhost:8080/",
          "height": 35
        },
        "id": "o_L1I3S4xgNZ",
        "outputId": "d421f91b-d5e1-47dc-f6f5-108a0fbeecc0"
      },
      "source": [
        "pwd"
      ],
      "execution_count": null,
      "outputs": [
        {
          "output_type": "execute_result",
          "data": {
            "application/vnd.google.colaboratory.intrinsic+json": {
              "type": "string"
            },
            "text/plain": [
              "'/content'"
            ]
          },
          "metadata": {},
          "execution_count": 3
        }
      ]
    },
    {
      "cell_type": "code",
      "metadata": {
        "id": "GVEUWtsZt10J",
        "colab": {
          "base_uri": "https://localhost:8080/",
          "height": 727
        },
        "outputId": "d9ce23d4-c9e9-4c5e-c55a-f9b8f156995a"
      },
      "source": [
        "import numpy as np\n",
        "import pandas as pd\n",
        "\n",
        "import matplotlib.pyplot as plt\n",
        "import seaborn as sns\n",
        "\n",
        "import plotly.figure_factory as ff\n",
        "import plotly.express as px\n",
        "import plotly.graph_objects as go\n",
        "from plotly.subplots import make_subplots\n",
        "\n",
        "from statsmodels.stats.outliers_influence import variance_inflation_factor\n",
        "\n",
        "from sklearn.linear_model import LogisticRegression\n",
        "from sklearn.linear_model import RidgeClassifier\n",
        "from sklearn.svm import SVC\n",
        "from sklearn.ensemble import RandomForestClassifier\n",
        "from sklearn.ensemble import BaggingClassifier\n",
        "from sklearn.ensemble import GradientBoostingClassifier\n",
        "from sklearn.neighbors import KNeighborsClassifier\n",
        "\n",
        "from sklearn.model_selection import train_test_split\n",
        "from sklearn.metrics import confusion_matrix, f1_score, accuracy_score, classification_report\n",
        "from sklearn.linear_model import LogisticRegression\n",
        "from sklearn.preprocessing import StandardScaler\n",
        "from sklearn.model_selection import GridSearchCV\n",
        "from sklearn.pipeline import Pipeline\n",
        "from xgboost import XGBClassifier\n",
        "\n",
        "from warnings import filterwarnings\n",
        "filterwarnings(\"ignore\")\n",
        "\n",
        "# 在此导入time库，并在开头设置开始时间\n",
        "# import time\n",
        "# start = time.perf_counter()\n",
        "\n",
        "\n",
        "# Data Preprocessing——Dealing with outliers\n",
        "cancer = pd.read_csv('/content/Breast Cancer_data.csv')    # 类型DataFrame\n",
        "cancer = cancer.drop('id', axis=1)      # 删除“id”列（DataFrame会默认有行索引和列索引)\n",
        "def outlier(df):\n",
        "    df_ = df.copy()\n",
        "    df = df.drop('diagnosis', axis=1)\n",
        "\n",
        "    q1 = df.quantile(0.25)\n",
        "    q3 = df.quantile(0.75)\n",
        "\n",
        "    iqr = q3 - q1\n",
        "\n",
        "    lower_limit = q1 - (1.5 * iqr)\n",
        "    upper_limit = q3 + (1.5 * iqr)\n",
        "\n",
        "    for col in df.columns:\n",
        "        for i in range(0, len(df[col])):\n",
        "            if df[col][i] < lower_limit[col]:\n",
        "                df[col][i] = lower_limit[col]\n",
        "\n",
        "            if df[col][i] > upper_limit[col]:\n",
        "                df[col][i] = upper_limit[col]\n",
        "\n",
        "    for col in df.columns:\n",
        "        df_[col] = df[col]\n",
        "\n",
        "    return (df_)\n",
        "\n",
        "cancer = outlier(cancer)\n",
        "\n",
        "\n",
        "# Separating features and target\n",
        "X = cancer.drop('diagnosis', axis=1)\n",
        "y = cancer.diagnosis\n",
        "\n",
        "\n",
        "# 方差膨胀因子(Variance Inflation Factor,VIF)：in our correlation matrix, many of our predictor variables were higly correlated.\n",
        "# To avoid multicollinearity, we must deal with such columns.\n",
        "def VIF(df):\n",
        "    vif = pd.DataFrame()\n",
        "    vif['Predictor'] = df.columns\n",
        "    vif['VIF'] = [variance_inflation_factor(df.values, col) for col in range(len(df.columns))]\n",
        "    return vif\n",
        "\n",
        "vif_df = VIF(X).sort_values('VIF', ascending = False, ignore_index = True)\n",
        "print(vif_df.head(8))\n",
        "\n",
        "\n",
        "# Removing features with VIF > 10,000\n",
        "high_vif_features = list(vif_df.Predictor.iloc[:2])\n",
        "vif_features = X.drop(high_vif_features, axis=1)\n",
        "\n",
        "# Splitting data for training and testing\n",
        "X_train, X_test, y_train, y_test = train_test_split(vif_features, y, test_size = 0.2, random_state = 39)\n",
        "\n",
        "# KNN with VIF features and hyperparameter tuning\n",
        "\n",
        "steps = [('scaler', StandardScaler()),\n",
        "         ('knn', BaggingClassifier(KNeighborsClassifier()))]\n",
        "pipeline = Pipeline(steps)\n",
        "\n",
        "parameters = dict(knn__base_estimator__metric = ['euclidean', 'manhattan', 'minkowski'],\n",
        "                  knn__base_estimator__weights =  ['uniform', 'distance'],\n",
        "                  knn__base_estimator__n_neighbors = range(2,15),\n",
        "                  knn__bootstrap = [True, False],\n",
        "                  knn__bootstrap_features = [True, False],\n",
        "                  knn__n_estimators = [5])\n",
        "\n",
        "cv = GridSearchCV(pipeline,\n",
        "                  param_grid = parameters,\n",
        "                  cv = 5,\n",
        "                  scoring = 'accuracy',\n",
        "                  n_jobs = -1,\n",
        "                  )\n",
        "\n",
        "cv.fit(X_train, y_train)\n",
        "y_pred = cv.predict(X_test)\n",
        "knn_accuracy = accuracy_score(y_pred, y_test) * 100\n",
        "\n",
        "print('\\033[1m' +'Best parameters : '+ '\\033[0m', cv.best_params_)\n",
        "print('\\033[1m' +'Accuracy : {:.2f}%'.format(knn_accuracy) + '\\033[0m')\n",
        "print('\\033[1m' +'Classification report : '+ '\\033[0m\\n', classification_report(y_test, y_pred))\n",
        "\n",
        "cm = confusion_matrix(y_pred, y_test)\n",
        "print('\\033[1m' +'Confusion Matrix : '+ '\\033[0m')\n",
        "sns.heatmap(cm, cmap = 'OrRd',annot = True, fmt='d')\n",
        "plt.show()\n",
        "\n",
        "# 在程序运行结束的位置添加结束时间\n",
        "# end = time.perf_counter()\n",
        "# print(\"运行耗时\", end-start)"
      ],
      "execution_count": null,
      "outputs": [
        {
          "output_type": "stream",
          "name": "stderr",
          "text": [
            "/usr/local/lib/python3.7/dist-packages/statsmodels/tools/_testing.py:19: FutureWarning:\n",
            "\n",
            "pandas.util.testing is deprecated. Use the functions in the public API at pandas.testing instead.\n",
            "\n"
          ]
        },
        {
          "output_type": "stream",
          "name": "stdout",
          "text": [
            "                 Predictor           VIF\n",
            "0              radius_mean  32981.932892\n",
            "1           perimeter_mean  30694.592305\n",
            "2             radius_worst   7964.577524\n",
            "3          perimeter_worst   3898.538972\n",
            "4                area_mean   1397.107633\n",
            "5               area_worst   1219.448662\n",
            "6   fractal_dimension_mean    726.110837\n",
            "7  fractal_dimension_worst    599.661757\n",
            "\u001b[1mBest parameters : \u001b[0m {'knn__base_estimator__metric': 'manhattan', 'knn__base_estimator__n_neighbors': 3, 'knn__base_estimator__weights': 'distance', 'knn__bootstrap': False, 'knn__bootstrap_features': True, 'knn__n_estimators': 5}\n",
            "\u001b[1mAccuracy : 97.37%\u001b[0m\n",
            "\u001b[1mClassification report : \u001b[0m\n",
            "               precision    recall  f1-score   support\n",
            "\n",
            "           B       0.96      1.00      0.98        72\n",
            "           M       1.00      0.93      0.96        42\n",
            "\n",
            "    accuracy                           0.97       114\n",
            "   macro avg       0.98      0.96      0.97       114\n",
            "weighted avg       0.97      0.97      0.97       114\n",
            "\n",
            "\u001b[1mConfusion Matrix : \u001b[0m\n"
          ]
        },
        {
          "output_type": "display_data",
          "data": {
            "image/png": "[encoded data removed]",
            "text/plain": [
              "<Figure size 432x288 with 2 Axes>"
            ]
          },
          "metadata": {
            "needs_background": "light"
          }
        }
      ]
    }
  ]
}